{
 "cells": [
  {
   "cell_type": "markdown",
   "metadata": {},
   "source": [
    "# Modeling and Simulation in Python\n",
    "\n",
    "Floating Duck Problem\n",
    "\n",
    "David Tarazi\n",
    "\n",
    "Copyright 2017 Allen Downey\n",
    "\n",
    "License: [Creative Commons Attribution 4.0 International](https://creativecommons.org/licenses/by/4.0)\n"
   ]
  },
  {
   "cell_type": "code",
   "execution_count": 1,
   "metadata": {},
   "outputs": [],
   "source": [
    "# Configure Jupyter so figures appear in the notebook\n",
    "%matplotlib inline\n",
    "\n",
    "# Configure Jupyter to display the assigned value after an assignment\n",
    "%config InteractiveShell.ast_node_interactivity='last_expr_or_assign'\n",
    "\n",
    "# import functions from the modsim.py module\n",
    "from modsim import *"
   ]
  },
  {
   "cell_type": "code",
   "execution_count": 19,
   "metadata": {},
   "outputs": [],
   "source": [
    "def errorFunc(d):\n",
    "    system = System(rhoWater = 1, rhoDuck = 0.3, r = 8)\n",
    "    unpack(system)\n",
    "    \n",
    "    vDuck = 4/3*np.pi*r**3\n",
    "    mDuck = vDuck * rhoDuck\n",
    "    vWater = (np.pi/3)*(3*r*d**2 - d**3)\n",
    "    mWater = vWater * rhoWater\n",
    "    \n",
    "    print(d)\n",
    "    return mWater - mDuck"
   ]
  },
  {
   "cell_type": "code",
   "execution_count": 20,
   "metadata": {},
   "outputs": [
    {
     "name": "stdout",
     "output_type": "stream",
     "text": [
      "5\n",
      "[5]\n",
      "[5.]\n",
      "[5.]\n",
      "[5.00000007]\n",
      "[5.84484848]\n",
      "[5.81098439]\n",
      "[5.81211849]\n",
      "[5.81211986]\n",
      "depth = 5.8121198575063575cm\n"
     ]
    }
   ],
   "source": [
    "solution = fsolve(errorFunc, 5) #cm\n",
    "print('depth = ' + str(solution[0]) + 'cm')"
   ]
  }
 ],
 "metadata": {
  "kernelspec": {
   "display_name": "Python 3",
   "language": "python",
   "name": "python3"
  },
  "language_info": {
   "codemirror_mode": {
    "name": "ipython",
    "version": 3
   },
   "file_extension": ".py",
   "mimetype": "text/x-python",
   "name": "python",
   "nbconvert_exporter": "python",
   "pygments_lexer": "ipython3",
   "version": "3.6.6"
  }
 },
 "nbformat": 4,
 "nbformat_minor": 2
}
