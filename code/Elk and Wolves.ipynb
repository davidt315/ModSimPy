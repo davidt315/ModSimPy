{
 "cells": [
  {
   "cell_type": "markdown",
   "metadata": {},
   "source": [
    "# Modeling and Simulation in Python\n",
    "\n",
    "Elk and Wolves\n",
    "\n",
    "David Tarazi\n",
    "\n",
    "License: [Creative Commons Attribution 4.0 International](https://creativecommons.org/licenses/by/4.0)\n"
   ]
  },
  {
   "cell_type": "code",
   "execution_count": 1,
   "metadata": {},
   "outputs": [],
   "source": [
    "# Configure Jupyter so figures appear in the notebook\n",
    "%matplotlib inline\n",
    "\n",
    "# Configure Jupyter to display the assigned value after an assignment\n",
    "%config InteractiveShell.ast_node_interactivity='last_expr_or_assign'\n",
    "\n",
    "# import functions from the modsim.py module\n",
    "from modsim import *"
   ]
  },
  {
   "cell_type": "markdown",
   "metadata": {},
   "source": [
    "### Code"
   ]
  },
  {
   "cell_type": "code",
   "execution_count": 2,
   "metadata": {},
   "outputs": [],
   "source": [
    "def makeSystem(alpha, beta, gamma, delta, t0, tEnd):\n",
    "    system = System(alpha = alpha, beta = beta, gamma = gamma, delta = delta, t0 = t0, tEnd = tEnd)\n",
    "    return system\n",
    "def makeInit(x, y):\n",
    "    init = State(X = x, Y = y)\n",
    "    return init"
   ]
  },
  {
   "cell_type": "code",
   "execution_count": 3,
   "metadata": {},
   "outputs": [
    {
     "data": {
      "text/html": [
       "<div>\n",
       "<style scoped>\n",
       "    .dataframe tbody tr th:only-of-type {\n",
       "        vertical-align: middle;\n",
       "    }\n",
       "\n",
       "    .dataframe tbody tr th {\n",
       "        vertical-align: top;\n",
       "    }\n",
       "\n",
       "    .dataframe thead th {\n",
       "        text-align: right;\n",
       "    }\n",
       "</style>\n",
       "<table border=\"1\" class=\"dataframe\">\n",
       "  <thead>\n",
       "    <tr style=\"text-align: right;\">\n",
       "      <th></th>\n",
       "      <th>values</th>\n",
       "    </tr>\n",
       "  </thead>\n",
       "  <tbody>\n",
       "    <tr>\n",
       "      <th>X</th>\n",
       "      <td>1</td>\n",
       "    </tr>\n",
       "    <tr>\n",
       "      <th>Y</th>\n",
       "      <td>1</td>\n",
       "    </tr>\n",
       "  </tbody>\n",
       "</table>\n",
       "</div>"
      ],
      "text/plain": [
       "X    1\n",
       "Y    1\n",
       "dtype: int64"
      ]
     },
     "execution_count": 3,
     "metadata": {},
     "output_type": "execute_result"
    }
   ],
   "source": [
    "system = makeSystem(0.05, 0.1, 0.1, 0.1, 0, 200)\n",
    "init = makeInit(1, 1)"
   ]
  },
  {
   "cell_type": "code",
   "execution_count": 4,
   "metadata": {},
   "outputs": [],
   "source": [
    "def updateFunc(init, system):\n",
    "    x, y = init\n",
    "    \n",
    "    deltaElk = ((system.alpha * x) - (system.beta * x * y))\n",
    "    deltaWolves = ((system.delta * x * y) - (system.gamma * y))\n",
    "\n",
    "    x += deltaElk\n",
    "    y += deltaWolves\n",
    "    \n",
    "    return State(X = x, Y = y)"
   ]
  },
  {
   "cell_type": "code",
   "execution_count": 5,
   "metadata": {},
   "outputs": [],
   "source": [
    "def runSimulation(system, updateFunc):\n",
    "    \"\"\"Runs a simulation of the system.\n",
    "        \n",
    "    system: System object\n",
    "    update_func: function that updates state\n",
    "    \n",
    "    returns: TimeFrame\n",
    "    \"\"\"\n",
    "    unpack(system)\n",
    "    \n",
    "    frame = TimeFrame(columns=init.index)\n",
    "    frame.row[t0] = init\n",
    "    \n",
    "    for t in linrange(t0, tEnd):\n",
    "        frame.row[t+1] = updateFunc(frame.row[t], system)\n",
    "    \n",
    "    return frame"
   ]
  },
  {
   "cell_type": "code",
   "execution_count": 6,
   "metadata": {},
   "outputs": [],
   "source": [
    "def plotData(elk, wolves):\n",
    "    plot(elk, \"--\", label = \"elk\")\n",
    "    plot(wolves, \":\", label = \"wolves\")\n",
    "    decorate(xlabel='Time (days)',\n",
    "             ylabel='Population')"
   ]
  },
  {
   "cell_type": "code",
   "execution_count": 7,
   "metadata": {},
   "outputs": [
    {
     "name": "stdout",
     "output_type": "stream",
     "text": [
      "0.0             1\n",
      "1.0          0.95\n",
      "2.0        0.9025\n",
      "3.0      0.857826\n",
      "4.0      0.816196\n",
      "5.0       0.77773\n",
      "6.0      0.742464\n",
      "7.0      0.710372\n",
      "8.0      0.681372\n",
      "9.0      0.655348\n",
      "10.0      0.63216\n",
      "11.0     0.611652\n",
      "12.0     0.593665\n",
      "13.0     0.578037\n",
      "14.0     0.564613\n",
      "15.0     0.553246\n",
      "16.0     0.543797\n",
      "17.0     0.536139\n",
      "18.0     0.530156\n",
      "19.0     0.525744\n",
      "20.0     0.522809\n",
      "21.0     0.521269\n",
      "22.0      0.52105\n",
      "23.0     0.522089\n",
      "24.0     0.524331\n",
      "25.0     0.527727\n",
      "26.0     0.532238\n",
      "27.0      0.53783\n",
      "28.0     0.544474\n",
      "29.0     0.552147\n",
      "           ...   \n",
      "171.0     2.03592\n",
      "172.0     2.05316\n",
      "173.0     2.06171\n",
      "174.0     2.06035\n",
      "175.0     2.04791\n",
      "176.0     2.02337\n",
      "177.0     1.98599\n",
      "178.0     1.93538\n",
      "179.0     1.87165\n",
      "180.0      1.7955\n",
      "181.0     1.70826\n",
      "182.0     1.61187\n",
      "183.0     1.50876\n",
      "184.0     1.40172\n",
      "185.0     1.29366\n",
      "186.0     1.18732\n",
      "187.0     1.08511\n",
      "188.0    0.988934\n",
      "189.0    0.900116\n",
      "190.0    0.819414\n",
      "191.0    0.747091\n",
      "192.0    0.683016\n",
      "193.0    0.626782\n",
      "194.0    0.577807\n",
      "195.0    0.535422\n",
      "196.0    0.498935\n",
      "197.0    0.467673\n",
      "198.0    0.441009\n",
      "199.0    0.418378\n",
      "200.0    0.399278\n",
      "Name: X, Length: 201, dtype: object\n",
      "0.0             1\n",
      "1.0             1\n",
      "2.0         0.995\n",
      "3.0      0.985299\n",
      "4.0       0.97129\n",
      "5.0      0.953438\n",
      "6.0      0.932246\n",
      "7.0      0.908237\n",
      "8.0      0.881932\n",
      "9.0      0.853831\n",
      "10.0     0.824404\n",
      "11.0     0.794079\n",
      "12.0     0.763241\n",
      "13.0     0.732228\n",
      "14.0      0.70133\n",
      "15.0     0.670795\n",
      "16.0     0.640827\n",
      "17.0     0.611593\n",
      "18.0     0.583223\n",
      "19.0     0.555821\n",
      "20.0     0.529461\n",
      "21.0     0.504195\n",
      "22.0     0.480058\n",
      "23.0     0.457065\n",
      "24.0     0.435222\n",
      "25.0      0.41452\n",
      "26.0     0.394943\n",
      "27.0     0.376469\n",
      "28.0      0.35907\n",
      "29.0     0.342713\n",
      "           ...   \n",
      "171.0    0.415312\n",
      "172.0    0.458335\n",
      "173.0    0.506605\n",
      "174.0    0.560392\n",
      "175.0    0.619813\n",
      "176.0    0.684764\n",
      "177.0    0.754841\n",
      "178.0    0.829267\n",
      "179.0    0.906835\n",
      "180.0    0.985879\n",
      "181.0     1.06431\n",
      "182.0     1.13969\n",
      "183.0     1.20942\n",
      "184.0     1.27095\n",
      "185.0     1.32201\n",
      "186.0     1.36083\n",
      "187.0     1.38632\n",
      "188.0     1.39812\n",
      "189.0     1.39657\n",
      "190.0     1.38262\n",
      "191.0     1.35765\n",
      "192.0     1.32332\n",
      "193.0     1.28137\n",
      "194.0     1.23355\n",
      "195.0     1.18147\n",
      "196.0     1.12658\n",
      "197.0     1.07013\n",
      "198.0     1.01317\n",
      "199.0     0.95653\n",
      "200.0    0.900896\n",
      "Name: Y, Length: 201, dtype: object\n"
     ]
    },
    {
     "data": {
      "image/png": "[encoded data removed]",
      "text/plain": [
       "<Figure size 432x288 with 1 Axes>"
      ]
     },
     "metadata": {},
     "output_type": "display_data"
    }
   ],
   "source": [
    "data = runSimulation(system, updateFunc)\n",
    "print(data.X)\n",
    "print(data.Y)\n",
    "plotData(data.X, data.Y)"
   ]
  },
  {
   "cell_type": "code",
   "execution_count": null,
   "metadata": {},
   "outputs": [],
   "source": []
  },
  {
   "cell_type": "code",
   "execution_count": null,
   "metadata": {},
   "outputs": [],
   "source": []
  }
 ],
 "metadata": {
  "kernelspec": {
   "display_name": "Python 3",
   "language": "python",
   "name": "python3"
  },
  "language_info": {
   "codemirror_mode": {
    "name": "ipython",
    "version": 3
   },
   "file_extension": ".py",
   "mimetype": "text/x-python",
   "name": "python",
   "nbconvert_exporter": "python",
   "pygments_lexer": "ipython3",
   "version": "3.6.6"
  }
 },
 "nbformat": 4,
 "nbformat_minor": 2
}
