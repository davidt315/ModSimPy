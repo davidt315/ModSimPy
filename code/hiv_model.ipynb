{
 "cells": [
  {
   "cell_type": "markdown",
   "metadata": {},
   "source": [
    "# Modeling and Simulation in Python\n",
    "\n",
    "David Tarazi\n",
    "\n",
    "HIV model\n",
    "\n",
    "10/15/18\n",
    "\n",
    "License: [Creative Commons Attribution 4.0 International](https://creativecommons.org/licenses/by/4.0)"
   ]
  },
  {
   "cell_type": "code",
   "execution_count": 3,
   "metadata": {},
   "outputs": [],
   "source": [
    "# Configure Jupyter so figures appear in the notebook\n",
    "%matplotlib inline\n",
    "\n",
    "# Configure Jupyter to display the assigned value after an assignment\n",
    "%config InteractiveShell.ast_node_interactivity='last_expr_or_assign'\n",
    "\n",
    "# import functions from the modsim.py module\n",
    "from modsim import *"
   ]
  },
  {
   "cell_type": "code",
   "execution_count": 67,
   "metadata": {},
   "outputs": [
    {
     "data": {
      "text/html": [
       "<div>\n",
       "<style scoped>\n",
       "    .dataframe tbody tr th:only-of-type {\n",
       "        vertical-align: middle;\n",
       "    }\n",
       "\n",
       "    .dataframe tbody tr th {\n",
       "        vertical-align: top;\n",
       "    }\n",
       "\n",
       "    .dataframe thead th {\n",
       "        text-align: right;\n",
       "    }\n",
       "</style>\n",
       "<table border=\"1\" class=\"dataframe\">\n",
       "  <thead>\n",
       "    <tr style=\"text-align: right;\">\n",
       "      <th></th>\n",
       "      <th>values</th>\n",
       "    </tr>\n",
       "  </thead>\n",
       "  <tbody>\n",
       "    <tr>\n",
       "      <th>init</th>\n",
       "      <td>R    200\n",
       "L      0\n",
       "E      0\n",
       "V    100\n",
       "dtype: int64</td>\n",
       "    </tr>\n",
       "    <tr>\n",
       "      <th>gamma</th>\n",
       "      <td>1.36</td>\n",
       "    </tr>\n",
       "    <tr>\n",
       "      <th>tau</th>\n",
       "      <td>0.2</td>\n",
       "    </tr>\n",
       "    <tr>\n",
       "      <th>mu</th>\n",
       "      <td>0.00136</td>\n",
       "    </tr>\n",
       "    <tr>\n",
       "      <th>beta</th>\n",
       "      <td>0.00027</td>\n",
       "    </tr>\n",
       "    <tr>\n",
       "      <th>delta</th>\n",
       "      <td>0.33</td>\n",
       "    </tr>\n",
       "    <tr>\n",
       "      <th>alpha</th>\n",
       "      <td>0.036</td>\n",
       "    </tr>\n",
       "    <tr>\n",
       "      <th>rho</th>\n",
       "      <td>0.1</td>\n",
       "    </tr>\n",
       "    <tr>\n",
       "      <th>sigma</th>\n",
       "      <td>2</td>\n",
       "    </tr>\n",
       "    <tr>\n",
       "      <th>pi</th>\n",
       "      <td>100</td>\n",
       "    </tr>\n",
       "    <tr>\n",
       "      <th>t0</th>\n",
       "      <td>0</td>\n",
       "    </tr>\n",
       "    <tr>\n",
       "      <th>t_end</th>\n",
       "      <td>120</td>\n",
       "    </tr>\n",
       "    <tr>\n",
       "      <th>dt</th>\n",
       "      <td>0.2</td>\n",
       "    </tr>\n",
       "  </tbody>\n",
       "</table>\n",
       "</div>"
      ],
      "text/plain": [
       "init     R    200\n",
       "L      0\n",
       "E      0\n",
       "V    100\n",
       "dtype: int64\n",
       "gamma                                                1.36\n",
       "tau                                                   0.2\n",
       "mu                                                0.00136\n",
       "beta                                              0.00027\n",
       "delta                                                0.33\n",
       "alpha                                               0.036\n",
       "rho                                                   0.1\n",
       "sigma                                                   2\n",
       "pi                                                    100\n",
       "t0                                                      0\n",
       "t_end                                                 120\n",
       "dt                                                    0.2\n",
       "dtype: object"
      ]
     },
     "execution_count": 67,
     "metadata": {},
     "output_type": "execute_result"
    }
   ],
   "source": [
    "init = State(R = 200, L = 0, E = 0, V = 100)\n",
    "system = System(init = init, gamma = 1.36, tau = .2, mu = .00136, beta = .00027, delta = .33, alpha = .036, rho = .1, sigma = 2, pi = 100, t0 = 0, t_end = 120, dt = 0.2)"
   ]
  },
  {
   "cell_type": "markdown",
   "metadata": {},
   "source": [
    "# Update Function"
   ]
  },
  {
   "cell_type": "code",
   "execution_count": 68,
   "metadata": {},
   "outputs": [],
   "source": [
    "def updateFunc(init, system):\n",
    "    r, l, e, v = init\n",
    "    \n",
    "    deltaR = ((system.gamma * system.tau) - (system.mu * r) - (system.beta * r * v))*system.dt\n",
    "    deltaL = ((system.rho * system.beta * r * v) - (system.mu * l) - (system.alpha * l))*system.dt\n",
    "    deltaE = (((1 - system.rho) * system.beta * r * v) + (system.alpha * l) - (system.delta * e))*system.dt\n",
    "    deltaV = ((system.pi * e) - (system.sigma * v))*system.dt\n",
    "    \n",
    "    r += deltaR \n",
    "    l += deltaL\n",
    "    e += deltaE\n",
    "    v += deltaV\n",
    "    \n",
    "    return State(R = r, L = l, E = e, V = v)\n",
    "\n",
    "def slope_func(init, t0, system):\n",
    "    r, l, e, v = init\n",
    "    \n",
    "    deltaR = ((system.gamma * system.tau) - (system.mu * r) - (system.beta * r * v))\n",
    "    deltaL = ((system.rho * system.beta * r * v) - (system.mu * l) - (system.alpha * l))\n",
    "    deltaE = (((1 - system.rho) * system.beta * r * v) + (system.alpha * l) - (system.delta * e))\n",
    "    deltaV = ((system.pi * e) - (system.sigma * v))\n",
    "    \n",
    "    return deltaR, deltaL, deltaE, deltaV"
   ]
  },
  {
   "cell_type": "markdown",
   "metadata": {},
   "source": [
    "# Simulation"
   ]
  },
  {
   "cell_type": "code",
   "execution_count": 69,
   "metadata": {},
   "outputs": [],
   "source": [
    "def runSimulation(system, state, updateFunc):#takes in system state and update func\n",
    "    frame = TimeFrame(columns = state.index)\n",
    "    frame.row[system.t0] = state #assigns first time step to initial state\n",
    "    \n",
    "    for i in linrange(system.t0, system.t_end):\n",
    "        frame.row[i+1] = updateFunc(frame.row[i], system) #updates the state and takes the last state into update function\n",
    "    print(frame)\n",
    "    return frame #returns the TimeFrameb"
   ]
  },
  {
   "cell_type": "code",
   "execution_count": 70,
   "metadata": {},
   "outputs": [],
   "source": [
    "def plotData(R, L, E, V): #plots R, L, E\n",
    "    plot(R, label = \"R\")\n",
    "    plot(L, label = \"L\")\n",
    "    plot(E, label = \"E\")\n",
    "    decorate(xlabel='Time (fifth days)',\n",
    "             ylabel='Lymphocytes')\n",
    "def plotVirons(virons): #plots virons\n",
    "    plot(virons, label = \"V\")\n",
    "    decorate(xlabel='Time (fifth days)',\n",
    "             ylabel='Virons')"
   ]
  },
  {
   "cell_type": "code",
   "execution_count": 71,
   "metadata": {
    "scrolled": true
   },
   "outputs": [
    {
     "name": "stdout",
     "output_type": "stream",
     "text": [
      "           R         L        E        V\n",
      "0        200         0        0      100\n",
      "1     198.92     0.108    0.972       60\n",
      "2    198.276  0.171643  1.48868    55.44\n",
      "3    197.683   0.22972  1.92589  63.0375\n",
      "4     197.01  0.295295  2.40606  76.3403\n",
      "5    196.199  0.374304  2.98032  93.9254\n",
      "6    195.205  0.471018  3.68192  115.962\n",
      "7    193.984  0.589735  4.54243  143.215\n",
      "8    192.485  0.735349  5.59706  176.778\n",
      "9     190.65  0.913601  6.88667  218.008\n",
      "10   188.408   1.13122  8.45869  268.538\n",
      "11   185.679   1.39597  10.3675  330.297\n",
      "12   182.371   1.71672  12.6739  405.527\n",
      "13   178.382   2.10326   15.444  496.794\n",
      "14   173.603   2.56609  18.7468  606.957\n",
      "15    167.92   3.11591  22.6489   739.11\n",
      "16   161.227   3.76283  27.2083  896.444\n",
      "17   153.433   4.51518  32.4639  1082.03\n",
      "18    144.48   5.37794  38.4223   1298.5\n",
      "19   134.365   6.35084  45.0428  1547.54\n",
      "20   123.154   7.42623  52.2214  1829.38\n",
      "21   111.009   8.58734  59.7776  2142.06\n",
      "22   98.1925   9.80723  67.4506  2480.79\n",
      "23   85.0661   11.0494  74.9082  2837.48\n",
      "24   72.0632   12.2702  81.7746  3200.65\n",
      "25   59.6429    13.424  87.6753  3555.88\n",
      "26   48.2286    14.469  92.2927  3887.04\n",
      "27   38.1467   15.3732  95.4164  4178.08\n",
      "28   29.5842    16.119  96.9755  4415.17\n",
      "29   22.5771   16.7039  97.0392  4588.61\n",
      "..       ...       ...      ...      ...\n",
      "91   1.58759   12.0932  3.57287  198.265\n",
      "92   1.62457   12.0045  3.43943  190.417\n",
      "93   1.66182   11.9165  3.31389  183.038\n",
      "94   1.69934   11.8291  3.19576  176.101\n",
      "95   1.73712   11.7423  3.08455  169.576\n",
      "96   1.77514   11.6562  2.97983  163.436\n",
      "97   1.81339   11.5706  2.88119  157.658\n",
      "98   1.85186   11.4857  2.78823  152.219\n",
      "99   1.89053   11.4014   2.7006  147.096\n",
      "100   1.9294   11.3177  2.61797   142.27\n",
      "101  1.96845   11.2347  2.54001  137.721\n",
      "102  2.00768   11.1522  2.46644  133.433\n",
      "103  2.04707   11.0703  2.39697  129.389\n",
      "104  2.08661    10.989  2.33135  125.572\n",
      "105  2.12629   10.9083  2.26933   121.97\n",
      "106  2.16611   10.8282   2.2107  118.569\n",
      "107  2.20605   10.7487  2.15524  115.355\n",
      "108  2.24611   10.6697  2.10275  112.318\n",
      "109  2.28627   10.5914  2.05305  109.446\n",
      "110  2.32654   10.5136  2.00597  106.729\n",
      "111   2.3669   10.4364  1.96134  104.157\n",
      "112  2.40734   10.3597  1.91902  101.721\n",
      "113  2.44786   10.2836  1.87885  99.4128\n",
      "114  2.48846   10.2081  1.84072  97.2247\n",
      "115  2.52912   10.1332  1.80449  95.1492\n",
      "116  2.56983   10.0587  1.77004  93.1792\n",
      "117   2.6106   9.98487  1.73728  91.3084\n",
      "118  2.65142   9.91155   1.7061  89.5307\n",
      "119  2.69228   9.83877  1.67639  87.8404\n",
      "120  2.73318   9.76654  1.64809  86.2321\n",
      "\n",
      "[121 rows x 4 columns]\n"
     ]
    },
    {
     "data": {
      "image/png": "[encoded data removed]",
      "text/plain": [
       "<Figure size 432x288 with 1 Axes>"
      ]
     },
     "metadata": {},
     "output_type": "display_data"
    }
   ],
   "source": [
    "frame = runSimulation(system, init, updateFunc)\n",
    "plotData(frame.R, frame.L, frame.E, frame.V)"
   ]
  },
  {
   "cell_type": "code",
   "execution_count": 72,
   "metadata": {},
   "outputs": [
    {
     "data": {
      "image/png": "[encoded data removed]",
      "text/plain": [
       "<Figure size 432x288 with 1 Axes>"
      ]
     },
     "metadata": {},
     "output_type": "display_data"
    }
   ],
   "source": [
    "plotVirons(frame.V)"
   ]
  },
  {
   "cell_type": "code",
   "execution_count": 73,
   "metadata": {},
   "outputs": [
    {
     "name": "stdout",
     "output_type": "stream",
     "text": [
      "                     R          L          E            V\n",
      "0.000000    200.000000   0.000000   0.000000   100.000000\n",
      "0.000289    199.998439   0.000156   0.001405    99.942195\n",
      "0.003181    199.982876   0.001712   0.015403    99.368209\n",
      "0.032102    199.832031   0.016787   0.150379    94.020487\n",
      "0.227930    198.973278   0.102229   0.888903    72.699460\n",
      "0.495024    197.979094   0.200190   1.671985    70.010923\n",
      "0.816651    196.646162   0.330441   2.648050    88.915687\n",
      "1.223841    194.258948   0.562742   4.343305   138.314142\n",
      "1.771560    188.808906   1.091964   8.172503   259.752634\n",
      "2.541923    173.251366   2.599239  18.961188   615.558228\n",
      "3.352492    140.333298   5.773603  40.994771  1401.569644\n",
      "4.168009     90.186179  10.551131  71.352233  2694.234467\n",
      "4.983526     43.041263  14.888451  91.871198  3989.135945\n",
      "5.702880     18.778068  16.900300  92.126621  4506.199904\n",
      "6.430854      7.918526  17.534284  81.535255  4352.607531\n",
      "7.237780      3.398258  17.478754  66.580677  3755.610113\n",
      "8.197115      1.601999  17.064580  50.568223  2935.287080\n",
      "9.333372      0.960407  16.447957  36.020935  2112.496156\n",
      "10.629496     0.787320  15.721516  24.471040  1435.975274\n",
      "12.111420     0.820597  14.910512  15.908908   928.856352\n",
      "13.774306     0.976398  14.040887  10.056472   581.146912\n",
      "15.474133     1.204496  13.199363   6.532891   371.917303\n",
      "16.828704     1.418932  12.562780   4.792949   269.820719\n",
      "18.233789     1.662813  11.933499   3.606257   200.130199\n",
      "19.887783     1.969772  11.231866   2.714982   147.896461\n",
      "21.776689     2.337494  10.480120   2.096449   111.780197\n",
      "23.167316     2.615387   9.958861   1.803251    95.084713\n",
      "24.631670     2.911487   9.438074   1.585634    82.753930\n",
      "26.333176     3.257462   8.867411   1.407483    72.740009\n",
      "28.188640     3.634765   8.285009   1.269675    65.047108\n",
      "...                ...        ...        ...          ...\n",
      "78.104238    13.252487   1.435339   0.348608    17.560446\n",
      "79.453530    13.510288   1.373033   0.339765    17.130705\n",
      "80.859548    13.778983   1.311309   0.330990    16.691704\n",
      "82.455225    14.083973   1.245012   0.321548    16.206901\n",
      "84.157470    14.409356   1.178438   0.312058    15.705796\n",
      "85.502417    14.666501   1.128694   0.304898    15.358694\n",
      "86.902531    14.934155   1.079452   0.297817    15.004707\n",
      "88.486897    15.236954   1.026699   0.290247    14.615105\n",
      "90.174224    15.559295   0.973790   0.282681    14.213502\n",
      "91.515096    15.815378   0.934015   0.276954    13.936879\n",
      "92.909606    16.081539   0.894677   0.271322    13.655486\n",
      "94.483045    16.381610   0.852649   0.265352    13.347153\n",
      "96.155920    16.700307   0.810558   0.259436    13.030642\n",
      "97.493025    16.954804   0.778729   0.254955    12.815275\n",
      "98.882256    17.218902   0.747284   0.250587    12.597120\n",
      "100.445145   17.515572   0.713790   0.246015    12.359627\n",
      "102.104002   17.829883   0.680304   0.241548    12.117510\n",
      "103.437689   18.082159   0.654838   0.238176    11.956770\n",
      "104.821998   18.343504   0.629717   0.234941    11.795208\n",
      "106.374708   18.635968   0.603051   0.231627    11.621215\n",
      "108.019960   18.945009   0.576452   0.228470    11.446082\n",
      "109.350617   19.194307   0.556118   0.226123    11.335729\n",
      "110.730392   19.452080   0.536098   0.223940    11.226623\n",
      "112.273298   19.739381   0.514937   0.221799    11.111648\n",
      "113.905341   20.042097   0.493893   0.219877    10.999144\n",
      "115.233400   20.287512   0.477732   0.218514    10.937265\n",
      "116.609062   20.540731   0.461868   0.217352    10.878940\n",
      "118.142545   20.821723   0.445188   0.216357    10.821305\n",
      "119.761771   21.116851   0.428674   0.215652    10.770097\n",
      "120.000000   21.160154   0.426334   0.215551    10.773768\n",
      "\n",
      "[91 rows x 4 columns]\n"
     ]
    },
    {
     "data": {
      "image/png": "[encoded data removed]",
      "text/plain": [
       "<Figure size 432x288 with 1 Axes>"
      ]
     },
     "metadata": {},
     "output_type": "display_data"
    }
   ],
   "source": [
    "results, details = run_ode_solver(system, slope_func)\n",
    "print(results)\n",
    "plotData(results.R, results.L, results.E, results.V)"
   ]
  },
  {
   "cell_type": "code",
   "execution_count": null,
   "metadata": {},
   "outputs": [],
   "source": []
  },
  {
   "cell_type": "code",
   "execution_count": null,
   "metadata": {},
   "outputs": [],
   "source": []
  },
  {
   "cell_type": "code",
   "execution_count": null,
   "metadata": {},
   "outputs": [],
   "source": []
  }
 ],
 "metadata": {
  "kernelspec": {
   "display_name": "Python 3",
   "language": "python",
   "name": "python3"
  },
  "language_info": {
   "codemirror_mode": {
    "name": "ipython",
    "version": 3
   },
   "file_extension": ".py",
   "mimetype": "text/x-python",
   "name": "python",
   "nbconvert_exporter": "python",
   "pygments_lexer": "ipython3",
   "version": "3.6.6"
  }
 },
 "nbformat": 4,
 "nbformat_minor": 2
}
