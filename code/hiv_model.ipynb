{
 "cells": [
  {
   "cell_type": "markdown",
   "metadata": {},
   "source": [
    "# Modeling and Simulation in Python\n",
    "\n",
    "David Tarazi\n",
    "\n",
    "HIV model\n",
    "\n",
    "10/15/18\n",
    "\n",
    "License: [Creative Commons Attribution 4.0 International](https://creativecommons.org/licenses/by/4.0)"
   ]
  },
  {
   "cell_type": "code",
   "execution_count": 3,
   "metadata": {},
   "outputs": [],
   "source": [
    "# Configure Jupyter so figures appear in the notebook\n",
    "%matplotlib inline\n",
    "\n",
    "# Configure Jupyter to display the assigned value after an assignment\n",
    "%config InteractiveShell.ast_node_interactivity='last_expr_or_assign'\n",
    "\n",
    "# import functions from the modsim.py module\n",
    "from modsim import *"
   ]
  },
  {
   "cell_type": "code",
   "execution_count": 4,
   "metadata": {},
   "outputs": [
    {
     "data": {
      "text/html": [
       "<div>\n",
       "<style scoped>\n",
       "    .dataframe tbody tr th:only-of-type {\n",
       "        vertical-align: middle;\n",
       "    }\n",
       "\n",
       "    .dataframe tbody tr th {\n",
       "        vertical-align: top;\n",
       "    }\n",
       "\n",
       "    .dataframe thead th {\n",
       "        text-align: right;\n",
       "    }\n",
       "</style>\n",
       "<table border=\"1\" class=\"dataframe\">\n",
       "  <thead>\n",
       "    <tr style=\"text-align: right;\">\n",
       "      <th></th>\n",
       "      <th>values</th>\n",
       "    </tr>\n",
       "  </thead>\n",
       "  <tbody>\n",
       "    <tr>\n",
       "      <th>gamma</th>\n",
       "      <td>1.360000</td>\n",
       "    </tr>\n",
       "    <tr>\n",
       "      <th>tau</th>\n",
       "      <td>0.200000</td>\n",
       "    </tr>\n",
       "    <tr>\n",
       "      <th>mu</th>\n",
       "      <td>0.001360</td>\n",
       "    </tr>\n",
       "    <tr>\n",
       "      <th>beta</th>\n",
       "      <td>0.000270</td>\n",
       "    </tr>\n",
       "    <tr>\n",
       "      <th>delta</th>\n",
       "      <td>0.330000</td>\n",
       "    </tr>\n",
       "    <tr>\n",
       "      <th>alpha</th>\n",
       "      <td>0.036000</td>\n",
       "    </tr>\n",
       "    <tr>\n",
       "      <th>rho</th>\n",
       "      <td>0.100000</td>\n",
       "    </tr>\n",
       "    <tr>\n",
       "      <th>sigma</th>\n",
       "      <td>2.000000</td>\n",
       "    </tr>\n",
       "    <tr>\n",
       "      <th>pi</th>\n",
       "      <td>100.000000</td>\n",
       "    </tr>\n",
       "    <tr>\n",
       "      <th>t0</th>\n",
       "      <td>0.000000</td>\n",
       "    </tr>\n",
       "    <tr>\n",
       "      <th>tEnd</th>\n",
       "      <td>600.000000</td>\n",
       "    </tr>\n",
       "    <tr>\n",
       "      <th>dt</th>\n",
       "      <td>0.041667</td>\n",
       "    </tr>\n",
       "  </tbody>\n",
       "</table>\n",
       "</div>"
      ],
      "text/plain": [
       "gamma      1.360000\n",
       "tau        0.200000\n",
       "mu         0.001360\n",
       "beta       0.000270\n",
       "delta      0.330000\n",
       "alpha      0.036000\n",
       "rho        0.100000\n",
       "sigma      2.000000\n",
       "pi       100.000000\n",
       "t0         0.000000\n",
       "tEnd     600.000000\n",
       "dt         0.041667\n",
       "dtype: float64"
      ]
     },
     "execution_count": 4,
     "metadata": {},
     "output_type": "execute_result"
    }
   ],
   "source": [
    "init = State(R = 200, L = 0, E = 0, V = 100)\n",
    "system = System(gamma = 1.36, tau = .2, mu = .00136, beta = .00027, delta = .33, alpha = .036, rho = .1, sigma = 2, pi = 100, t0 = 0, tEnd = 600, dt = 1/24)"
   ]
  },
  {
   "cell_type": "markdown",
   "metadata": {},
   "source": [
    "# Update Function"
   ]
  },
  {
   "cell_type": "code",
   "execution_count": 5,
   "metadata": {},
   "outputs": [],
   "source": [
    "def updateFunc(init, system):\n",
    "    r, l, e, v = init\n",
    "    \n",
    "    deltaR = ((system.gamma * system.tau) - (system.mu * r) - (system.beta * r * v))*system.dt\n",
    "    deltaL = ((system.rho * system.beta * r * v) - (system.mu * l) - (system.alpha * l))*system.dt\n",
    "    deltaE = (((1 - system.rho) * system.beta * r * v) + (system.alpha * l) - (system.delta * e))*system.dt\n",
    "    deltaV = ((system.pi * e) - (system.sigma * v))*system.dt\n",
    "    \n",
    "    r += deltaR \n",
    "    l += deltaL\n",
    "    e += deltaE\n",
    "    v += deltaV\n",
    "    \n",
    "    return State(R = r, L = l, E = e, V = v)"
   ]
  },
  {
   "cell_type": "markdown",
   "metadata": {},
   "source": [
    "# Simulation"
   ]
  },
  {
   "cell_type": "code",
   "execution_count": 6,
   "metadata": {},
   "outputs": [],
   "source": [
    "def runSimulation(system, state, updateFunc):\n",
    "    frame = TimeFrame(columns = state.index)\n",
    "    frame.row[system.t0] = state\n",
    "    \n",
    "    for i in linrange(system.t0, system.tEnd):\n",
    "        frame.row[i+1] = updateFunc(frame.row[i], system)\n",
    "    print(frame)\n",
    "    return frame"
   ]
  },
  {
   "cell_type": "code",
   "execution_count": 10,
   "metadata": {},
   "outputs": [],
   "source": [
    "def plotData(R, L, E):\n",
    "    plot(R, label = \"R\")\n",
    "    plot(L, label = \"L\")\n",
    "    plot(E, label = \"E\")\n",
    "    decorate(xlabel='Time (hours)',\n",
    "             ylabel='Lymphocytes')\n",
    "def plotVirons(virons):\n",
    "    plot(virons, label = \"V\")\n",
    "    decorate(xlabel='Time (hours)',\n",
    "             ylabel='Virons')"
   ]
  },
  {
   "cell_type": "code",
   "execution_count": 11,
   "metadata": {
    "scrolled": true
   },
   "outputs": [
    {
     "name": "stdout",
     "output_type": "stream",
     "text": [
      "             R          L         E        V\n",
      "0.0        200          0         0      100\n",
      "1.0    199.775     0.0225    0.2025  91.6667\n",
      "2.0    199.569  0.0430668  0.385166  84.8715\n",
      "3.0    199.378  0.0620547  0.551429  79.4038\n",
      "4.0      199.2  0.0797684  0.704232  75.0844\n",
      "5.0    199.032  0.0964707  0.846107  71.7617\n",
      "6.0    198.872   0.112389  0.979232   69.307\n",
      "7.0    198.717    0.12772   1.10549  67.6115\n",
      "8.0    198.565   0.142636   1.22652  66.5834\n",
      "9.0    198.417   0.157288   1.34373  66.1453\n",
      "10.0   198.269   0.171808   1.45837  66.2321\n",
      "11.0   198.122   0.186314   1.57154  66.7893\n",
      "12.0   197.973    0.20091   1.68419  67.7716\n",
      "13.0   197.822   0.215691   1.79718  69.1414\n",
      "14.0   197.668   0.230743   1.91128  70.8679\n",
      "15.0   197.511   0.246143   2.02718  72.9259\n",
      "16.0   197.349   0.261964   2.14551  75.2953\n",
      "17.0   197.182   0.278273   2.26685  77.9603\n",
      "18.0   197.009   0.295134   2.39175  80.9088\n",
      "19.0    196.83   0.312607   2.52069   84.132\n",
      "20.0   196.644    0.33075   2.65417  87.6239\n",
      "21.0    196.45    0.34962   2.79263   91.381\n",
      "22.0   196.248   0.369271   2.93652  95.4018\n",
      "23.0   196.038   0.389759   3.08626  99.6872\n",
      "24.0   195.818   0.411138   3.24228  104.239\n",
      "25.0   195.589   0.433461   3.40498  109.062\n",
      "26.0   195.349   0.456784    3.5748  114.161\n",
      "27.0   195.099   0.481162   3.75213  119.543\n",
      "28.0   194.837   0.506651    3.9374  125.215\n",
      "29.0   194.562   0.533308   4.13103  131.186\n",
      "...        ...        ...       ...      ...\n",
      "571.0  2.72968    9.75616   1.69633  89.0716\n",
      "572.0  2.73812    9.74124    1.6901   88.717\n",
      "573.0  2.74657    9.72635   1.68393   88.366\n",
      "574.0  2.75502    9.71148   1.67783  88.0186\n",
      "575.0  2.76347    9.69664   1.67178  87.6746\n",
      "576.0  2.77192    9.68182   1.66579  87.3342\n",
      "577.0  2.78037    9.66702   1.65986  86.9971\n",
      "578.0  2.78883    9.65224   1.65399  86.6634\n",
      "579.0  2.79728    9.63749   1.64817  86.3331\n",
      "580.0  2.80574    9.62276   1.64241   86.006\n",
      "581.0   2.8142    9.60805    1.6367  85.6822\n",
      "582.0  2.82266    9.59337   1.63105  85.3616\n",
      "583.0  2.83112     9.5787   1.62545  85.0442\n",
      "584.0  2.83959    9.56406   1.61991  84.7299\n",
      "585.0  2.84805    9.54945   1.61442  84.4187\n",
      "586.0  2.85652    9.53485   1.60898  84.1106\n",
      "587.0  2.86499    9.52028   1.60359  83.8054\n",
      "588.0  2.87346    9.50573   1.59825  83.5033\n",
      "589.0  2.88193     9.4912   1.59296   83.204\n",
      "590.0   2.8904     9.4767   1.58773  82.9077\n",
      "591.0  2.89888    9.46221   1.58254  82.6143\n",
      "592.0  2.90735    9.44775   1.57739  82.3236\n",
      "593.0  2.91583    9.43332    1.5723  82.0358\n",
      "594.0   2.9243     9.4189   1.56725  81.7507\n",
      "595.0  2.93278    9.40451   1.56225  81.4684\n",
      "596.0  2.94126    9.39014    1.5573  81.1887\n",
      "597.0  2.94974    9.37579   1.55239  80.9117\n",
      "598.0  2.95822    9.36146   1.54752  80.6374\n",
      "599.0   2.9667    9.34716    1.5427  80.3656\n",
      "600.0  2.97519    9.33288   1.53792  80.0964\n",
      "\n",
      "[601 rows x 4 columns]\n"
     ]
    },
    {
     "data": {
      "image/png": "[encoded data removed]",
      "text/plain": [
       "<Figure size 432x288 with 1 Axes>"
      ]
     },
     "metadata": {},
     "output_type": "display_data"
    }
   ],
   "source": [
    "frame = runSimulation(system, init, updateFunc)\n",
    "plotData(frame.R, frame.L, frame.E)"
   ]
  },
  {
   "cell_type": "code",
   "execution_count": 9,
   "metadata": {},
   "outputs": [
    {
     "data": {
      "image/png": "[encoded data removed]",
      "text/plain": [
       "<Figure size 432x288 with 1 Axes>"
      ]
     },
     "metadata": {},
     "output_type": "display_data"
    }
   ],
   "source": [
    "plotVirons(frame.V)"
   ]
  },
  {
   "cell_type": "code",
   "execution_count": null,
   "metadata": {},
   "outputs": [],
   "source": []
  },
  {
   "cell_type": "code",
   "execution_count": null,
   "metadata": {},
   "outputs": [],
   "source": []
  },
  {
   "cell_type": "code",
   "execution_count": null,
   "metadata": {},
   "outputs": [],
   "source": []
  }
 ],
 "metadata": {
  "kernelspec": {
   "display_name": "Python 3",
   "language": "python",
   "name": "python3"
  },
  "language_info": {
   "codemirror_mode": {
    "name": "ipython",
    "version": 3
   },
   "file_extension": ".py",
   "mimetype": "text/x-python",
   "name": "python",
   "nbconvert_exporter": "python",
   "pygments_lexer": "ipython3",
   "version": "3.6.6"
  }
 },
 "nbformat": 4,
 "nbformat_minor": 2
}
